{
  "cells": [
    {
      "cell_type": "markdown",
      "source": [
        "# Gaussian Splatting"
      ],
      "metadata": {
        "id": "PBHKDLyRCGlo"
      }
    },
    {
      "cell_type": "markdown",
      "source": [
        "Repo: https://github.com/camenduru/gaussian-splatting\n",
        "(https://github.com/graphdeco-inria/gaussian-splatting)\n",
        "\n",
        "Info: https://www.plainconcepts.com/3d-gaussian-splatting/\n",
        "https://danielpikl.medium.com/what-is-the-difference-between-nerf-and-gaussian-splatting-technology-d6d9848faf80\n",
        "\n",
        "Guide: https://medium.com/@adrian.milla/rebuild-your-home-in-3d-with-gaussian-splatting-f6d7222717fb\n",
        "\n",
        "Video reference: https://www.youtube.com/watch?v=ZLTkMF22BaA\n"
      ],
      "metadata": {
        "id": "4I_0cMz-Br1V"
      }
    },
    {
      "cell_type": "markdown",
      "source": [
        "### 0. Installation and dependencies"
      ],
      "metadata": {
        "id": "6_nhgSR6yU6k"
      }
    },
    {
      "cell_type": "code",
      "source": [
        "%cd /content\n",
        "!git clone --recursive https://github.com/camenduru/gaussian-splatting\n",
        "!pip install -q plyfile\n",
        "\n",
        "%cd /content/gaussian-splatting\n",
        "!pip install -q /content/gaussian-splatting/submodules/diff-gaussian-rasterization\n",
        "!pip install -q /content/gaussian-splatting/submodules/simple-knn"
      ],
      "metadata": {
        "id": "m-bybU5iBJzn"
      },
      "execution_count": null,
      "outputs": []
    },
    {
      "cell_type": "code",
      "source": [
        "!pip install ffmpeg"
      ],
      "metadata": {
        "id": "lCLgGWw_NCeq"
      },
      "execution_count": null,
      "outputs": []
    },
    {
      "cell_type": "code",
      "source": [
        "!pip install opencv-python-headless"
      ],
      "metadata": {
        "id": "ABzjGfePQTwv"
      },
      "execution_count": null,
      "outputs": []
    },
    {
      "cell_type": "code",
      "source": [
        "# colmap > 3.6 needed (used 3.9)\n",
        "!sudo apt-get install colmap"
      ],
      "metadata": {
        "id": "zRvbX92-Pm-z"
      },
      "execution_count": null,
      "outputs": []
    },
    {
      "cell_type": "code",
      "source": [
        "# GET DEMO FILES\n",
        "!wget https://huggingface.co/camenduru/gaussian-splatting/resolve/main/tandt_db.zip\n",
        "!unzip tandt_db.zip"
      ],
      "metadata": {
        "id": "mbE4fSixBMgY"
      },
      "execution_count": null,
      "outputs": []
    },
    {
      "cell_type": "code",
      "source": [
        "# GET OUR FILES\n",
        "!cp -r /content/drive/MyDrive/GaussianSplatting/Catedral.zip /content/gaussian-splatting/\n",
        "!unzip Catedral.zip"
      ],
      "metadata": {
        "id": "UzRQh-DGfAld"
      },
      "execution_count": null,
      "outputs": []
    },
    {
      "cell_type": "markdown",
      "source": [
        "### 1. Trim video into images with ffmpeg"
      ],
      "metadata": {
        "id": "VDknhMs9yc6o"
      }
    },
    {
      "cell_type": "code",
      "source": [
        "!mkdir /content/Catedral/\n",
        "!mkdir /content/Catedral/input/\n",
        "%cd /content/Catedral/input/"
      ],
      "metadata": {
        "colab": {
          "base_uri": "https://localhost:8080/"
        },
        "id": "AnhY_47tN6oe",
        "outputId": "595b2633-d319-4d05-8538-ea7bb8465968"
      },
      "execution_count": null,
      "outputs": [
        {
          "output_type": "stream",
          "name": "stdout",
          "text": [
            "/content/Catedral/input\n"
          ]
        }
      ]
    },
    {
      "cell_type": "code",
      "source": [
        "!ffmpeg -i /content/Catedral_trim.mp4 -r 2 /content/Catedral/input/image%03d.jpg"
      ],
      "metadata": {
        "id": "vGdp6VzQK8FA"
      },
      "execution_count": null,
      "outputs": []
    },
    {
      "cell_type": "code",
      "source": [
        "%cd /content/gaussian-splatting"
      ],
      "metadata": {
        "colab": {
          "base_uri": "https://localhost:8080/"
        },
        "id": "mQ79pD1GP0aG",
        "outputId": "f2005307-ac63-4d51-ec60-7d21cd6894d3"
      },
      "execution_count": null,
      "outputs": [
        {
          "output_type": "stream",
          "name": "stdout",
          "text": [
            "/content/gaussian-splatting\n"
          ]
        }
      ]
    },
    {
      "cell_type": "markdown",
      "source": [
        "### 2. Get cloud of points with COLMAP"
      ],
      "metadata": {
        "id": "CGrPr1ttyuRl"
      }
    },
    {
      "cell_type": "code",
      "source": [
        "!python convert.py -s /content/Catedral/"
      ],
      "metadata": {
        "colab": {
          "base_uri": "https://localhost:8080/"
        },
        "id": "U054LdyiP3AZ",
        "outputId": "ebf2a66a-071e-4fc4-9ad0-8f99ecf2b3cf"
      },
      "execution_count": null,
      "outputs": [
        {
          "output_type": "stream",
          "name": "stdout",
          "text": [
            "qt.qpa.xcb: could not connect to display \n",
            "qt.qpa.plugin: Could not load the Qt platform plugin \"xcb\" in \"\" even though it was found.\n",
            "This application failed to start because no Qt platform plugin could be initialized. Reinstalling the application may fix this problem.\n",
            "\n",
            "Available platform plugins are: eglfs, linuxfb, minimal, minimalegl, offscreen, vnc, xcb.\n",
            "\n",
            "*** Aborted at 1703998894 (unix time) try \"date -d @1703998894\" if you are using GNU date ***\n",
            "PC: @                0x0 (unknown)\n",
            "*** SIGABRT (@0x1c04) received by PID 7172 (TID 0x7f4d871d9080) from PID 7172; stack trace: ***\n",
            "    @     0x7f4d8f789046 (unknown)\n",
            "    @     0x7f4d8d809520 (unknown)\n",
            "    @     0x7f4d8d85d9fc pthread_kill\n",
            "    @     0x7f4d8d809476 raise\n",
            "    @     0x7f4d8d7ef7f3 abort\n",
            "    @     0x7f4d8dd92ba3 QMessageLogger::fatal()\n",
            "    @     0x7f4d8e399713 QGuiApplicationPrivate::createPlatformIntegration()\n",
            "    @     0x7f4d8e399c08 QGuiApplicationPrivate::createEventDispatcher()\n",
            "    @     0x7f4d8dfc2b17 QCoreApplicationPrivate::init()\n",
            "    @     0x7f4d8e39cb70 QGuiApplicationPrivate::init()\n",
            "    @     0x7f4d8eab0ced QApplicationPrivate::init()\n",
            "    @     0x5650325b73dd colmap::RunFeatureExtractor()\n",
            "    @     0x5650325a9499 main\n",
            "    @     0x7f4d8d7f0d90 (unknown)\n",
            "    @     0x7f4d8d7f0e40 __libc_start_main\n",
            "    @     0x5650325ac3e5 _start\n",
            "Aborted (core dumped)\n",
            "ERROR:root:Feature extraction failed with code 34304. Exiting.\n"
          ]
        }
      ]
    },
    {
      "cell_type": "markdown",
      "source": [
        "### 3. Train GAUSSIAN SPLATING to obtain 3D model"
      ],
      "metadata": {
        "id": "d4K25GEly42L"
      }
    },
    {
      "cell_type": "code",
      "source": [
        "!python train.py -s /content/gaussian-splatting/Catedral"
      ],
      "metadata": {
        "id": "bMLGKxe2Dlta",
        "colab": {
          "base_uri": "https://localhost:8080/"
        },
        "outputId": "f3fbeb3b-1a15-49e1-f829-ad13cb4d0e70"
      },
      "execution_count": null,
      "outputs": [
        {
          "output_type": "stream",
          "name": "stdout",
          "text": [
            "2024-02-01 16:26:30.879312: E external/local_xla/xla/stream_executor/cuda/cuda_dnn.cc:9261] Unable to register cuDNN factory: Attempting to register factory for plugin cuDNN when one has already been registered\n",
            "2024-02-01 16:26:30.879371: E external/local_xla/xla/stream_executor/cuda/cuda_fft.cc:607] Unable to register cuFFT factory: Attempting to register factory for plugin cuFFT when one has already been registered\n",
            "2024-02-01 16:26:30.881254: E external/local_xla/xla/stream_executor/cuda/cuda_blas.cc:1515] Unable to register cuBLAS factory: Attempting to register factory for plugin cuBLAS when one has already been registered\n",
            "2024-02-01 16:26:30.892547: I tensorflow/core/platform/cpu_feature_guard.cc:182] This TensorFlow binary is optimized to use available CPU instructions in performance-critical operations.\n",
            "To enable the following instructions: AVX2 AVX512F FMA, in other operations, rebuild TensorFlow with the appropriate compiler flags.\n",
            "2024-02-01 16:26:32.379212: W tensorflow/compiler/tf2tensorrt/utils/py_utils.cc:38] TF-TRT Warning: Could not find TensorRT\n",
            "Optimizing \n",
            "Output folder: ./output/ee7508cc-0 [01/02 16:26:33]\n",
            "Reading camera 105/105 [01/02 16:26:34]\n",
            "Converting point3d.bin to .ply, will happen only the first time you open the scene. [01/02 16:26:34]\n",
            "Loading Training Cameras [01/02 16:26:35]\n",
            "[ INFO ] Encountered quite large input images (>1.6K pixels width), rescaling to 1.6K.\n",
            " If this is not desired, please explicitly specify '--resolution/-r' as 1 [01/02 16:26:35]\n",
            "Loading Test Cameras [01/02 16:26:51]\n",
            "Number of points at initialisation :  69184 [01/02 16:26:51]\n",
            "Training progress:  23% 7000/30000 [16:54<1:08:35,  5.59it/s, Loss=0.0356993]\n",
            "[ITER 7000] Evaluating train: L1 0.02054468132555485 PSNR 29.96996421813965 [01/02 16:43:55]\n",
            "\n",
            "[ITER 7000] Saving Gaussians [01/02 16:43:55]\n",
            "Training progress: 100% 30000/30000 [1:28:13<00:00,  5.67it/s, Loss=0.0258834]\n",
            "\n",
            "[ITER 30000] Evaluating train: L1 0.016085613518953323 PSNR 32.062242126464845 [01/02 17:55:11]\n",
            "\n",
            "[ITER 30000] Saving Gaussians [01/02 17:55:11]\n",
            "\n",
            "Training complete. [01/02 17:55:26]\n"
          ]
        }
      ]
    },
    {
      "cell_type": "markdown",
      "source": [
        "### 4. Save output and visualize *.ply*\n",
        "\n",
        "\n",
        "\n"
      ],
      "metadata": {
        "id": "k1Co7nxUzBiU"
      }
    },
    {
      "cell_type": "code",
      "source": [
        "!zip -r /content/gaussian-splatting_out.zip /content/gaussian-splatting/output/"
      ],
      "metadata": {
        "colab": {
          "base_uri": "https://localhost:8080/"
        },
        "id": "n6JyEHb92I9Z",
        "outputId": "1dc346fb-7970-483f-9089-9a6caa5664d5"
      },
      "execution_count": null,
      "outputs": [
        {
          "output_type": "stream",
          "name": "stdout",
          "text": [
            "  adding: content/gaussian-splatting/output/ (stored 0%)\n",
            "  adding: content/gaussian-splatting/output/ee7508cc-0/ (stored 0%)\n",
            "  adding: content/gaussian-splatting/output/ee7508cc-0/point_cloud/ (stored 0%)\n",
            "  adding: content/gaussian-splatting/output/ee7508cc-0/point_cloud/iteration_7000/ (stored 0%)\n",
            "  adding: content/gaussian-splatting/output/ee7508cc-0/point_cloud/iteration_7000/point_cloud.ply (deflated 11%)\n",
            "  adding: content/gaussian-splatting/output/ee7508cc-0/point_cloud/iteration_30000/ (stored 0%)\n",
            "  adding: content/gaussian-splatting/output/ee7508cc-0/point_cloud/iteration_30000/point_cloud.ply (deflated 11%)\n",
            "  adding: content/gaussian-splatting/output/ee7508cc-0/cameras.json (deflated 67%)\n",
            "  adding: content/gaussian-splatting/output/ee7508cc-0/input.ply (deflated 44%)\n",
            "  adding: content/gaussian-splatting/output/ee7508cc-0/events.out.tfevents.1706804793.7c43c954c3e4.5070.0 (deflated 15%)\n",
            "  adding: content/gaussian-splatting/output/ee7508cc-0/cfg_args (deflated 22%)\n"
          ]
        }
      ]
    },
    {
      "cell_type": "code",
      "source": [
        "!git clone https://github.com/camenduru/splat\n",
        "!wget https://github.com/cloudflare/cloudflared/releases/latest/download/cloudflared-linux-amd64.deb -O /content/cloudflared-linux-amd64.deb\n",
        "!dpkg -i cloudflared-linux-amd64.deb\n",
        "\n",
        "import atexit, requests, subprocess, time, re, os\n",
        "from random import randint\n",
        "from threading import Timer\n",
        "from queue import Queue\n",
        "def cloudflared(port, metrics_port, output_queue):\n",
        "    atexit.register(lambda p: p.terminate(), subprocess.Popen(['cloudflared', 'tunnel', '--url', f'http://127.0.0.1:{port}', '--metrics', f'127.0.0.1:{metrics_port}'], stdout=subprocess.DEVNULL, stderr=subprocess.STDOUT))\n",
        "    attempts, tunnel_url = 0, None\n",
        "    while attempts < 10 and not tunnel_url:\n",
        "        attempts += 1\n",
        "        time.sleep(3)\n",
        "        try:\n",
        "            tunnel_url = re.search(\"(?P<url>https?:\\/\\/[^\\s]+.trycloudflare.com)\", requests.get(f'http://127.0.0.1:{metrics_port}/metrics').text).group(\"url\")\n",
        "        except:\n",
        "            pass\n",
        "    if not tunnel_url:\n",
        "        raise Exception(\"Can't connect to Cloudflare Edge\")\n",
        "    output_queue.put(tunnel_url)\n",
        "output_queue, metrics_port = Queue(), randint(8100, 9000)\n",
        "thread = Timer(2, cloudflared, args=(7860, metrics_port, output_queue))\n",
        "thread.start()\n",
        "thread.join()\n",
        "tunnel_url = output_queue.get()\n",
        "os.environ['webui_url'] = tunnel_url\n",
        "print(tunnel_url)\n",
        "%cd /content/splat\n",
        "!python -m http.server 7860"
      ],
      "metadata": {
        "id": "GFZxoTkZBUJd"
      },
      "execution_count": null,
      "outputs": []
    }
  ],
  "metadata": {
    "accelerator": "GPU",
    "colab": {
      "gpuType": "T4",
      "provenance": []
    },
    "kernelspec": {
      "display_name": "Python 3",
      "name": "python3"
    },
    "language_info": {
      "name": "python"
    }
  },
  "nbformat": 4,
  "nbformat_minor": 0
}